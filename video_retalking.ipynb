{
  "cells": [
    {
      "cell_type": "code",
      "execution_count": null,
      "metadata": {
        "id": "VjYy0F2gZIPR"
      },
      "outputs": [],
      "source": [
        "%cd /content/\n",
        "!git clone https://github.com/camenduru/video-retalking\n",
        "\n",
        "!apt -y install -qq aria2\n",
        "!aria2c --console-log-level=error -c -x 16 -s 16 -k 1M https://huggingface.co/camenduru/video-retalking/resolve/main/30_net_gen.pth -d /content/video-retalking/checkpoints -o 30_net_gen.pth\n",
        "!aria2c --console-log-level=error -c -x 16 -s 16 -k 1M https://huggingface.co/camenduru/video-retalking/resolve/main/BFM.zip -d /content/video-retalking/checkpoints -o BFM.zip\n",
        "!aria2c --console-log-level=error -c -x 16 -s 16 -k 1M https://huggingface.co/camenduru/video-retalking/resolve/main/DNet.pt -d /content/video-retalking/checkpoints -o DNet.pt\n",
        "!aria2c --console-log-level=error -c -x 16 -s 16 -k 1M https://huggingface.co/camenduru/video-retalking/resolve/main/ENet.pth -d /content/video-retalking/checkpoints -o ENet.pth\n",
        "!aria2c --console-log-level=error -c -x 16 -s 16 -k 1M https://huggingface.co/camenduru/video-retalking/resolve/main/GFPGANv1.3.pth -d /content/video-retalking/checkpoints -o GFPGANv1.3.pth\n",
        "!aria2c --console-log-level=error -c -x 16 -s 16 -k 1M https://huggingface.co/camenduru/video-retalking/resolve/main/GPEN-BFR-512.pth -d /content/video-retalking/checkpoints -o GPEN-BFR-512.pth\n",
        "!aria2c --console-log-level=error -c -x 16 -s 16 -k 1M https://huggingface.co/camenduru/video-retalking/resolve/main/LNet.pth -d /content/video-retalking/checkpoints -o LNet.pth\n",
        "!aria2c --console-log-level=error -c -x 16 -s 16 -k 1M https://huggingface.co/camenduru/video-retalking/resolve/main/ParseNet-latest.pth -d /content/video-retalking/checkpoints -o ParseNet-latest.pth\n",
        "!aria2c --console-log-level=error -c -x 16 -s 16 -k 1M https://huggingface.co/camenduru/video-retalking/resolve/main/RetinaFace-R50.pth -d /content/video-retalking/checkpoints -o RetinaFace-R50.pth\n",
        "!aria2c --console-log-level=error -c -x 16 -s 16 -k 1M https://huggingface.co/camenduru/video-retalking/resolve/main/expression.mat -d /content/video-retalking/checkpoints -o expression.mat\n",
        "!aria2c --console-log-level=error -c -x 16 -s 16 -k 1M https://huggingface.co/camenduru/video-retalking/resolve/main/face3d_pretrain_epoch_20.pth -d /content/video-retalking/checkpoints -o face3d_pretrain_epoch_20.pth\n",
        "!aria2c --console-log-level=error -c -x 16 -s 16 -k 1M https://huggingface.co/camenduru/video-retalking/resolve/main/shape_predictor_68_face_landmarks.dat -d /content/video-retalking/checkpoints -o shape_predictor_68_face_landmarks.dat\n",
        "!aria2c --console-log-level=error -c -x 16 -s 16 -k 1M https://huggingface.co/camenduru/facexlib/resolve/main/detection_Resnet50_Final.pth -d /usr/local/lib/python3.10/dist-packages/facexlib/weights -o detection_Resnet50_Final.pth\n",
        "!aria2c --console-log-level=error -c -x 16 -s 16 -k 1M https://huggingface.co/camenduru/facexlib/resolve/main/s3fd-619a316812.pth -d /root/.cache/torch/hub/checkpoints -o s3fd-619a316812.pth\n",
        "!aria2c --console-log-level=error -c -x 16 -s 16 -k 1M https://huggingface.co/camenduru/facexlib/resolve/main/2DFAN4-cd938726ad.zip -d /root/.cache/torch/hub/checkpoints -o 2DFAN4-cd938726ad.zip\n",
        "!unzip -d /content/video-retalking/checkpoints/BFM /content/video-retalking/checkpoints/BFM.zip\n",
        "\n",
        "!pip install -q basicsr==1.4.2 face-alignment==1.3.4 facexlib==0.2.5 librosa==0.9.2 ninja==1.11.1.1 einops==0.7.0 kornia==0.7.0 -U"
      ]
    },
    {
      "cell_type": "code",
      "execution_count": 3,
      "metadata": {
        "id": "5_KMQYg_K6uL",
        "outputId": "a6133986-63de-4078-af09-6beb7b226eeb",
        "colab": {
          "base_uri": "https://localhost:8080/"
        }
      },
      "outputs": [
        {
          "output_type": "stream",
          "name": "stdout",
          "text": [
            "/content/video-retalking\n",
            "/usr/local/lib/python3.10/dist-packages/torchvision/transforms/functional_tensor.py:5: UserWarning: The torchvision.transforms.functional_tensor module is deprecated in 0.15 and will be **removed in 0.17**. Please don't rely on it. You probably just need to use APIs in torchvision.transforms.functional or in torchvision.transforms.v2.functional.\n",
            "  warnings.warn(\n",
            "[Info] Using cuda for inference.\n",
            "[Step 0] Number of frames available for inference: 935\n",
            "[Step 1] Using saved landmarks.\n",
            "[Step 2] 3DMM Extraction In Video:: 100% 935/935 [00:10<00:00, 89.83it/s]\n",
            "using expression center\n",
            "Load checkpoint from: checkpoints/DNet.pt\n",
            "Load checkpoint from: checkpoints/LNet.pth\n",
            "Load checkpoint from: checkpoints/ENet.pth\n",
            "[Step 3] Using saved stablized video.\n",
            "[Step 4] Load audio; Length of mel chunks: 184\n",
            "[Step 5] Reference Enhancement: 100% 184/184 [00:28<00:00,  6.44it/s]\n",
            "[Step 6] Lip Synthesis::   0% 0/12 [00:00<?, ?it/s]\n",
            "landmark Det::   0% 0/184 [00:00<?, ?it/s]\u001b[A\n",
            "landmark Det::   1% 1/184 [00:06<18:52,  6.19s/it]\u001b[A\n",
            "landmark Det::   1% 2/184 [00:11<17:45,  5.85s/it]\u001b[A\n",
            "landmark Det::   3% 6/184 [00:11<04:02,  1.36s/it]\u001b[A\n",
            "landmark Det::   6% 11/184 [00:12<01:41,  1.70it/s]\u001b[A\n",
            "landmark Det::   9% 16/184 [00:12<00:55,  3.00it/s]\u001b[A\n",
            "landmark Det::  11% 20/184 [00:12<00:37,  4.36it/s]\u001b[A\n",
            "landmark Det::  13% 24/184 [00:12<00:26,  6.15it/s]\u001b[A\n",
            "landmark Det::  15% 28/184 [00:12<00:18,  8.41it/s]\u001b[A\n",
            "landmark Det::  18% 33/184 [00:12<00:12, 11.80it/s]\u001b[A\n",
            "landmark Det::  21% 38/184 [00:12<00:09, 15.55it/s]\u001b[A\n",
            "landmark Det::  23% 43/184 [00:12<00:07, 19.49it/s]\u001b[A\n",
            "landmark Det::  26% 48/184 [00:12<00:05, 23.28it/s]\u001b[A\n",
            "landmark Det::  28% 52/184 [00:13<00:05, 25.82it/s]\u001b[A\n",
            "landmark Det::  30% 56/184 [00:13<00:04, 28.41it/s]\u001b[A\n",
            "landmark Det::  33% 60/184 [00:13<00:04, 30.77it/s]\u001b[A\n",
            "landmark Det::  35% 64/184 [00:13<00:03, 32.56it/s]\u001b[A\n",
            "landmark Det::  38% 69/184 [00:13<00:03, 34.83it/s]\u001b[A\n",
            "landmark Det::  40% 74/184 [00:13<00:03, 36.39it/s]\u001b[A\n",
            "landmark Det::  43% 79/184 [00:13<00:02, 37.71it/s]\u001b[A\n",
            "landmark Det::  46% 84/184 [00:13<00:02, 38.71it/s]\u001b[A\n",
            "landmark Det::  48% 89/184 [00:14<00:02, 39.29it/s]\u001b[A\n",
            "landmark Det::  51% 94/184 [00:14<00:02, 39.21it/s]\u001b[A\n",
            "landmark Det::  54% 99/184 [00:14<00:02, 39.51it/s]\u001b[A\n",
            "landmark Det::  57% 104/184 [00:14<00:02, 39.74it/s]\u001b[A\n",
            "landmark Det::  59% 109/184 [00:14<00:01, 39.69it/s]\u001b[A\n",
            "landmark Det::  61% 113/184 [00:14<00:01, 39.65it/s]\u001b[A\n",
            "landmark Det::  64% 117/184 [00:14<00:01, 39.28it/s]\u001b[A\n",
            "landmark Det::  66% 121/184 [00:14<00:01, 38.96it/s]\u001b[A\n",
            "landmark Det::  68% 125/184 [00:14<00:01, 39.04it/s]\u001b[A\n",
            "landmark Det::  70% 129/184 [00:15<00:01, 39.29it/s]\u001b[A\n",
            "landmark Det::  72% 133/184 [00:15<00:01, 39.15it/s]\u001b[A\n",
            "landmark Det::  74% 137/184 [00:15<00:01, 38.56it/s]\u001b[A\n",
            "landmark Det::  77% 141/184 [00:15<00:01, 38.79it/s]\u001b[A\n",
            "landmark Det::  79% 146/184 [00:15<00:00, 39.29it/s]\u001b[A\n",
            "landmark Det::  82% 151/184 [00:15<00:00, 39.62it/s]\u001b[A\n",
            "landmark Det::  85% 156/184 [00:15<00:00, 39.83it/s]\u001b[A\n",
            "landmark Det::  87% 160/184 [00:15<00:00, 39.69it/s]\u001b[A\n",
            "landmark Det::  90% 165/184 [00:15<00:00, 40.28it/s]\u001b[A\n",
            "landmark Det::  92% 170/184 [00:16<00:00, 40.34it/s]\u001b[A\n",
            "landmark Det::  95% 175/184 [00:16<00:00, 39.04it/s]\u001b[A\n",
            "landmark Det::  98% 180/184 [00:16<00:00, 39.50it/s]\u001b[A\n",
            "landmark Det:: 100% 184/184 [00:16<00:00, 11.20it/s]\n",
            "\n",
            "100% 184/184 [00:00<00:00, 14443.36it/s]\n",
            "\n",
            "  0% 0/184 [00:00<?, ?it/s]\u001b[A\n",
            " 30% 56/184 [00:00<00:00, 556.89it/s]\u001b[A\n",
            " 62% 115/184 [00:00<00:00, 572.71it/s]\u001b[A\n",
            "100% 184/184 [00:00<00:00, 566.68it/s]\n",
            "\n",
            "FaceDet::   0% 0/46 [00:00<?, ?it/s]\u001b[A\n",
            "FaceDet::   2% 1/46 [00:03<02:32,  3.40s/it]\u001b[A\n",
            "FaceDet::   4% 2/46 [00:03<01:05,  1.48s/it]\u001b[A\n",
            "FaceDet::   7% 3/46 [00:03<00:37,  1.15it/s]\u001b[A\n",
            "FaceDet::   9% 4/46 [00:03<00:24,  1.73it/s]\u001b[A\n",
            "FaceDet::  11% 5/46 [00:03<00:17,  2.39it/s]\u001b[A\n",
            "FaceDet::  13% 6/46 [00:04<00:12,  3.12it/s]\u001b[A\n",
            "FaceDet::  15% 7/46 [00:04<00:10,  3.87it/s]\u001b[A\n",
            "FaceDet::  17% 8/46 [00:04<00:08,  4.60it/s]\u001b[A\n",
            "FaceDet::  20% 9/46 [00:04<00:07,  5.28it/s]\u001b[A\n",
            "FaceDet::  22% 10/46 [00:04<00:06,  5.78it/s]\u001b[A\n",
            "FaceDet::  24% 11/46 [00:04<00:05,  6.10it/s]\u001b[A\n",
            "FaceDet::  26% 12/46 [00:04<00:05,  6.40it/s]\u001b[A\n",
            "FaceDet::  28% 13/46 [00:05<00:04,  6.67it/s]\u001b[A\n",
            "FaceDet::  30% 14/46 [00:05<00:04,  6.82it/s]\u001b[A\n",
            "FaceDet::  33% 15/46 [00:05<00:04,  6.96it/s]\u001b[A\n",
            "FaceDet::  35% 16/46 [00:05<00:04,  7.01it/s]\u001b[A\n",
            "FaceDet::  37% 17/46 [00:05<00:04,  7.13it/s]\u001b[A\n",
            "FaceDet::  39% 18/46 [00:05<00:03,  7.34it/s]\u001b[A\n",
            "FaceDet::  41% 19/46 [00:05<00:03,  7.50it/s]\u001b[A\n",
            "FaceDet::  43% 20/46 [00:05<00:03,  7.55it/s]\u001b[A\n",
            "FaceDet::  46% 21/46 [00:06<00:03,  7.61it/s]\u001b[A\n",
            "FaceDet::  48% 22/46 [00:06<00:03,  7.63it/s]\u001b[A\n",
            "FaceDet::  50% 23/46 [00:06<00:03,  7.53it/s]\u001b[A\n",
            "FaceDet::  52% 24/46 [00:06<00:02,  7.43it/s]\u001b[A\n",
            "FaceDet::  54% 25/46 [00:06<00:02,  7.39it/s]\u001b[A\n",
            "FaceDet::  57% 26/46 [00:06<00:02,  7.25it/s]\u001b[A\n",
            "FaceDet::  59% 27/46 [00:06<00:02,  7.13it/s]\u001b[A\n",
            "FaceDet::  61% 28/46 [00:07<00:02,  7.17it/s]\u001b[A\n",
            "FaceDet::  63% 29/46 [00:07<00:02,  7.20it/s]\u001b[A\n",
            "FaceDet::  65% 30/46 [00:07<00:02,  7.28it/s]\u001b[A\n",
            "FaceDet::  67% 31/46 [00:07<00:02,  7.29it/s]\u001b[A\n",
            "FaceDet::  70% 32/46 [00:07<00:01,  7.34it/s]\u001b[A\n",
            "FaceDet::  72% 33/46 [00:07<00:01,  7.30it/s]\u001b[A\n",
            "FaceDet::  74% 34/46 [00:07<00:01,  7.42it/s]\u001b[A\n",
            "FaceDet::  76% 35/46 [00:07<00:01,  7.43it/s]\u001b[A\n",
            "FaceDet::  78% 36/46 [00:08<00:01,  7.49it/s]\u001b[A\n",
            "FaceDet::  80% 37/46 [00:08<00:01,  7.34it/s]\u001b[A\n",
            "FaceDet::  83% 38/46 [00:08<00:01,  7.34it/s]\u001b[A\n",
            "FaceDet::  85% 39/46 [00:08<00:00,  7.32it/s]\u001b[A\n",
            "FaceDet::  87% 40/46 [00:08<00:00,  7.39it/s]\u001b[A\n",
            "FaceDet::  89% 41/46 [00:08<00:00,  7.39it/s]\u001b[A\n",
            "FaceDet::  91% 42/46 [00:08<00:00,  7.34it/s]\u001b[A\n",
            "FaceDet::  93% 43/46 [00:09<00:00,  7.36it/s]\u001b[A\n",
            "FaceDet::  96% 44/46 [00:09<00:00,  7.34it/s]\u001b[A\n",
            "FaceDet::  98% 45/46 [00:09<00:00,  7.31it/s]\u001b[A\n",
            "FaceDet:: 100% 46/46 [00:09<00:00,  4.84it/s]\n",
            "[Step 6] Lip Synthesis:: 100% 12/12 [01:46<00:00,  8.90s/it]\n",
            "outfile: /content/output_high_qual.mp4\n"
          ]
        }
      ],
      "source": [
        "%cd /content/video-retalking\n",
        "\n",
        "!python inference.py \\\n",
        "  --face \"/content/video-retalking/examples/face/aa.mp4\" \\\n",
        "  --audio \"/content/video-retalking/examples/audio/4.wav\" \\\n",
        "  --outfile '/content/output_high_qual.mp4'"
      ]
    },
    {
      "cell_type": "code",
      "source": [
        "import cv2\n",
        "\n",
        "# 打開影片文件\n",
        "cap = cv2.VideoCapture('/content/video-retalking/examples/face/aa.mp4')\n",
        "\n",
        "# 獲取影片的解析度\n",
        "width = int(cap.get(cv2.CAP_PROP_FRAME_WIDTH))\n",
        "height = int(cap.get(cv2.CAP_PROP_FRAME_HEIGHT))\n",
        "\n",
        "print('影片寬度:', width)\n",
        "print('影片高度:', height)\n",
        "\n",
        "# 關閉影片文件\n",
        "cap.release()\n"
      ],
      "metadata": {
        "id": "jnKCstgNcCSn",
        "outputId": "4a104147-7edd-4c1b-a4d0-b54c3c96b3a2",
        "colab": {
          "base_uri": "https://localhost:8080/"
        }
      },
      "execution_count": 11,
      "outputs": [
        {
          "output_type": "stream",
          "name": "stdout",
          "text": [
            "影片寬度: 700\n",
            "影片高度: 700\n"
          ]
        }
      ]
    },
    {
      "cell_type": "code",
      "source": [
        "!pip install numpy==1.23.1"
      ],
      "metadata": {
        "id": "CA4ElW2XTeiq",
        "outputId": "ba3c3e06-08da-4d37-fe69-b113e78764e7",
        "colab": {
          "base_uri": "https://localhost:8080/"
        }
      },
      "execution_count": 1,
      "outputs": [
        {
          "output_type": "stream",
          "name": "stdout",
          "text": [
            "Requirement already satisfied: numpy==1.23.1 in /usr/local/lib/python3.10/dist-packages (1.23.1)\n"
          ]
        }
      ]
    },
    {
      "cell_type": "code",
      "source": [
        "import cv2\n",
        "\n",
        "# 打開影片文件\n",
        "cap = cv2.VideoCapture('/content/video-retalking/examples/face/蔡英魂.mp4')\n",
        "\n",
        "# 建立輸出影片的寫入器\n",
        "fourcc = cv2.VideoWriter_fourcc(*'mp4v')\n",
        "out = cv2.VideoWriter('/content/video-retalking/examples/face/aa.mp4', fourcc, 30, (700, 700))\n",
        "\n",
        "# 讀取影片幀並調整大小\n",
        "while(cap.isOpened()):\n",
        "    ret, frame = cap.read()\n",
        "    if ret:\n",
        "        # 調整影片大小為700x700\n",
        "        resized_frame = cv2.resize(frame, (700, 700))\n",
        "        # 寫入輸出影片\n",
        "        out.write(resized_frame)\n",
        "    else:\n",
        "        break\n",
        "\n",
        "# 釋放資源\n",
        "cap.release()\n",
        "out.release()\n",
        "cv2.destroyAllWindows()\n"
      ],
      "metadata": {
        "id": "s0QgVLIeWNoT"
      },
      "execution_count": 14,
      "outputs": []
    }
  ],
  "metadata": {
    "accelerator": "GPU",
    "colab": {
      "gpuType": "A100",
      "provenance": [],
      "machine_shape": "hm"
    },
    "kernelspec": {
      "display_name": "Python 3",
      "name": "python3"
    },
    "language_info": {
      "name": "python"
    }
  },
  "nbformat": 4,
  "nbformat_minor": 0
}